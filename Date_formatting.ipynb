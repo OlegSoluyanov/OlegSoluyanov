{
  "nbformat": 4,
  "nbformat_minor": 0,
  "metadata": {
    "colab": {
      "name": "Untitled1.ipynb",
      "provenance": [],
      "collapsed_sections": [],
      "mount_file_id": "1srqqZ8A395MuPeiIL2BQAPALanNOPEXS",
      "authorship_tag": "ABX9TyNX6BRGpOy9khOzEDMUhJds",
      "include_colab_link": true
    },
    "kernelspec": {
      "name": "python3",
      "display_name": "Python 3"
    },
    "language_info": {
      "name": "python"
    }
  },
  "cells": [
    {
      "cell_type": "markdown",
      "metadata": {
        "id": "view-in-github",
        "colab_type": "text"
      },
      "source": [
        "<a href=\"https://colab.research.google.com/github/OlegSoluyanov/OlegSoluyanov/blob/main/Untitled1.ipynb\" target=\"_parent\"><img src=\"https://colab.research.google.com/assets/colab-badge.svg\" alt=\"Open In Colab\"/></a>"
      ]
    },
    {
      "cell_type": "markdown",
      "metadata": {
        "id": "wjxbGIYAGCHD"
      },
      "source": [
        "**ПРЕОБРАЗОВАНИЕ СМЕШАННЫХ ФОРМАТОВ ДАТЫ В ЕДИНЫЙ в excel файле**"
      ]
    },
    {
      "cell_type": "code",
      "metadata": {
        "id": "IoDK5J526weY"
      },
      "source": [
        "# Импорт необходимой библиотеки\n",
        "import numpy as np\n",
        "import pandas as pd\n",
        "from google.colab import files"
      ],
      "execution_count": 248,
      "outputs": []
    },
    {
      "cell_type": "code",
      "metadata": {
        "id": "oMakxIw27IAj"
      },
      "source": [
        "# Чтение excel файла, с указанием листа\n",
        "df = pd.read_excel('https://drive.google.com/uc?export=download&id=1mJ6zjugYehZzB9W4yNmTLP6ErLvW76ck', sheet_name='Data Practice')"
      ],
      "execution_count": 249,
      "outputs": []
    },
    {
      "cell_type": "code",
      "metadata": {
        "colab": {
          "base_uri": "https://localhost:8080/",
          "height": 363
        },
        "id": "kulcQUp47-mv",
        "outputId": "2008ee1b-de88-4f92-c8f4-0b4009851721"
      },
      "source": [
        "# Чтение первых 10 строк\n",
        "df.head(10)"
      ],
      "execution_count": 250,
      "outputs": [
        {
          "output_type": "execute_result",
          "data": {
            "text/html": [
              "<div>\n",
              "<style scoped>\n",
              "    .dataframe tbody tr th:only-of-type {\n",
              "        vertical-align: middle;\n",
              "    }\n",
              "\n",
              "    .dataframe tbody tr th {\n",
              "        vertical-align: top;\n",
              "    }\n",
              "\n",
              "    .dataframe thead th {\n",
              "        text-align: right;\n",
              "    }\n",
              "</style>\n",
              "<table border=\"1\" class=\"dataframe\">\n",
              "  <thead>\n",
              "    <tr style=\"text-align: right;\">\n",
              "      <th></th>\n",
              "      <th>JE Code</th>\n",
              "      <th>Store</th>\n",
              "      <th>Country</th>\n",
              "      <th>Region</th>\n",
              "      <th>Date</th>\n",
              "      <th>Item</th>\n",
              "      <th>Salesperson</th>\n",
              "      <th>List Price</th>\n",
              "      <th>Actual Price</th>\n",
              "      <th>Discount %</th>\n",
              "    </tr>\n",
              "  </thead>\n",
              "  <tbody>\n",
              "    <tr>\n",
              "      <th>0</th>\n",
              "      <td>I-1001</td>\n",
              "      <td>Moscow</td>\n",
              "      <td>Russia</td>\n",
              "      <td>EMEA</td>\n",
              "      <td>2018-10-06 00:00:00</td>\n",
              "      <td>Microwave</td>\n",
              "      <td>May Wilmot</td>\n",
              "      <td>80</td>\n",
              "      <td>79</td>\n",
              "      <td>0.0125</td>\n",
              "    </tr>\n",
              "    <tr>\n",
              "      <th>1</th>\n",
              "      <td>I-1002</td>\n",
              "      <td>Toronto</td>\n",
              "      <td>Canada</td>\n",
              "      <td>NaN</td>\n",
              "      <td>4/23/2015</td>\n",
              "      <td>Microwave</td>\n",
              "      <td>David Shiner</td>\n",
              "      <td>80</td>\n",
              "      <td>54</td>\n",
              "      <td>0.3250</td>\n",
              "    </tr>\n",
              "    <tr>\n",
              "      <th>2</th>\n",
              "      <td>I-1003</td>\n",
              "      <td>Sao Paolo</td>\n",
              "      <td>Brazil</td>\n",
              "      <td>LATAM</td>\n",
              "      <td>2017-04-03 00:00:00</td>\n",
              "      <td>Air conditioner</td>\n",
              "      <td>Gary Reynolds</td>\n",
              "      <td>700</td>\n",
              "      <td>686</td>\n",
              "      <td>0.0200</td>\n",
              "    </tr>\n",
              "    <tr>\n",
              "      <th>3</th>\n",
              "      <td>I-1004</td>\n",
              "      <td>Istanbul</td>\n",
              "      <td>Turkey</td>\n",
              "      <td>EMEA</td>\n",
              "      <td>8/14/2018</td>\n",
              "      <td>Ceiling fan</td>\n",
              "      <td>Mark Buntain</td>\n",
              "      <td>150</td>\n",
              "      <td>137</td>\n",
              "      <td>0.0867</td>\n",
              "    </tr>\n",
              "    <tr>\n",
              "      <th>4</th>\n",
              "      <td>I-1005</td>\n",
              "      <td>Sydney</td>\n",
              "      <td>Australia</td>\n",
              "      <td>APAC</td>\n",
              "      <td>2015-03-03 00:00:00</td>\n",
              "      <td>Toaster</td>\n",
              "      <td>Christine Davies</td>\n",
              "      <td>50</td>\n",
              "      <td>37</td>\n",
              "      <td>0.2600</td>\n",
              "    </tr>\n",
              "    <tr>\n",
              "      <th>5</th>\n",
              "      <td>I-1006</td>\n",
              "      <td>Shenzhen</td>\n",
              "      <td>China</td>\n",
              "      <td>APAC</td>\n",
              "      <td>4/25/2016</td>\n",
              "      <td>Iron</td>\n",
              "      <td>Gary Shaw</td>\n",
              "      <td>30</td>\n",
              "      <td>29</td>\n",
              "      <td>0.0333</td>\n",
              "    </tr>\n",
              "    <tr>\n",
              "      <th>6</th>\n",
              "      <td>I-1007</td>\n",
              "      <td>Lima</td>\n",
              "      <td>Peru</td>\n",
              "      <td>LATAM</td>\n",
              "      <td>2016-06-06 00:00:00</td>\n",
              "      <td>Dishwasher</td>\n",
              "      <td>Christopher Cresswell</td>\n",
              "      <td>500</td>\n",
              "      <td>465</td>\n",
              "      <td>0.0700</td>\n",
              "    </tr>\n",
              "    <tr>\n",
              "      <th>7</th>\n",
              "      <td>I-1008</td>\n",
              "      <td>Tijuana</td>\n",
              "      <td>Mexico</td>\n",
              "      <td>LATAM</td>\n",
              "      <td>2016-06-07 00:00:00</td>\n",
              "      <td>Iron</td>\n",
              "      <td>Gillian Allnutt</td>\n",
              "      <td>30</td>\n",
              "      <td>28</td>\n",
              "      <td>0.0667</td>\n",
              "    </tr>\n",
              "    <tr>\n",
              "      <th>8</th>\n",
              "      <td>I-1009</td>\n",
              "      <td>London</td>\n",
              "      <td>UK</td>\n",
              "      <td>EMEA</td>\n",
              "      <td>2015-12-11 00:00:00</td>\n",
              "      <td>Washing Machine</td>\n",
              "      <td>Francis Godden</td>\n",
              "      <td>800</td>\n",
              "      <td>760</td>\n",
              "      <td>0.0500</td>\n",
              "    </tr>\n",
              "    <tr>\n",
              "      <th>9</th>\n",
              "      <td>I-1010</td>\n",
              "      <td>Lima</td>\n",
              "      <td>Peru</td>\n",
              "      <td>LATAM</td>\n",
              "      <td>2014-09-07 00:00:00</td>\n",
              "      <td>Iron</td>\n",
              "      <td>Christopher Cresswell</td>\n",
              "      <td>30</td>\n",
              "      <td>28</td>\n",
              "      <td>0.0667</td>\n",
              "    </tr>\n",
              "  </tbody>\n",
              "</table>\n",
              "</div>"
            ],
            "text/plain": [
              "  JE Code      Store    Country  ... List Price Actual Price Discount %\n",
              "0  I-1001     Moscow     Russia  ...         80           79     0.0125\n",
              "1  I-1002    Toronto     Canada  ...         80           54     0.3250\n",
              "2  I-1003  Sao Paolo     Brazil  ...        700          686     0.0200\n",
              "3  I-1004   Istanbul     Turkey  ...        150          137     0.0867\n",
              "4  I-1005     Sydney  Australia  ...         50           37     0.2600\n",
              "5  I-1006   Shenzhen      China  ...         30           29     0.0333\n",
              "6  I-1007       Lima       Peru  ...        500          465     0.0700\n",
              "7  I-1008    Tijuana     Mexico  ...         30           28     0.0667\n",
              "8  I-1009     London         UK  ...        800          760     0.0500\n",
              "9  I-1010       Lima       Peru  ...         30           28     0.0667\n",
              "\n",
              "[10 rows x 10 columns]"
            ]
          },
          "metadata": {},
          "execution_count": 250
        }
      ]
    },
    {
      "cell_type": "markdown",
      "metadata": {
        "id": "_PP4YCUkGsN5"
      },
      "source": [
        "В файле разный формат даты по строкам и отсутствие значений региона NA, pandas заменил NA знчениями NaN"
      ]
    },
    {
      "cell_type": "code",
      "metadata": {
        "colab": {
          "base_uri": "https://localhost:8080/"
        },
        "id": "fZLVbOYXB7Gr",
        "outputId": "954f8ede-c02f-4360-9a3b-30408dc5464b"
      },
      "source": [
        "# Контроль типов данных\n",
        "df.info()"
      ],
      "execution_count": 251,
      "outputs": [
        {
          "output_type": "stream",
          "name": "stdout",
          "text": [
            "<class 'pandas.core.frame.DataFrame'>\n",
            "RangeIndex: 2339 entries, 0 to 2338\n",
            "Data columns (total 10 columns):\n",
            " #   Column        Non-Null Count  Dtype  \n",
            "---  ------        --------------  -----  \n",
            " 0   JE Code       2339 non-null   object \n",
            " 1   Store         2339 non-null   object \n",
            " 2   Country       2339 non-null   object \n",
            " 3   Region        1946 non-null   object \n",
            " 4   Date          2339 non-null   object \n",
            " 5   Item          2339 non-null   object \n",
            " 6   Salesperson   2339 non-null   object \n",
            " 7   List Price    2339 non-null   int64  \n",
            " 8   Actual Price  2339 non-null   int64  \n",
            " 9   Discount %    2339 non-null   float64\n",
            "dtypes: float64(1), int64(2), object(7)\n",
            "memory usage: 182.9+ KB\n"
          ]
        }
      ]
    },
    {
      "cell_type": "markdown",
      "metadata": {
        "id": "XaCpLNcFYSFw"
      },
      "source": [
        "Столбец с датами не только в разном формате но и в текстовом формате"
      ]
    },
    {
      "cell_type": "code",
      "metadata": {
        "id": "JOAdkylw8Fsi"
      },
      "source": [
        "# Замена null значений региона Северная Америка на NA\n",
        "df['Region'].fillna('NA', inplace=True)\n",
        "# Контроль типа datetime для столбца с датой\n",
        "df['Date'] = df['Date'].astype('datetime64[D]')"
      ],
      "execution_count": 252,
      "outputs": []
    },
    {
      "cell_type": "code",
      "metadata": {
        "colab": {
          "base_uri": "https://localhost:8080/",
          "height": 206
        },
        "id": "qiOhgkT78xMB",
        "outputId": "cfb52b36-526c-44aa-ee23-e5a27513401b"
      },
      "source": [
        "# Итог\n",
        "df.head()"
      ],
      "execution_count": 253,
      "outputs": [
        {
          "output_type": "execute_result",
          "data": {
            "text/html": [
              "<div>\n",
              "<style scoped>\n",
              "    .dataframe tbody tr th:only-of-type {\n",
              "        vertical-align: middle;\n",
              "    }\n",
              "\n",
              "    .dataframe tbody tr th {\n",
              "        vertical-align: top;\n",
              "    }\n",
              "\n",
              "    .dataframe thead th {\n",
              "        text-align: right;\n",
              "    }\n",
              "</style>\n",
              "<table border=\"1\" class=\"dataframe\">\n",
              "  <thead>\n",
              "    <tr style=\"text-align: right;\">\n",
              "      <th></th>\n",
              "      <th>JE Code</th>\n",
              "      <th>Store</th>\n",
              "      <th>Country</th>\n",
              "      <th>Region</th>\n",
              "      <th>Date</th>\n",
              "      <th>Item</th>\n",
              "      <th>Salesperson</th>\n",
              "      <th>List Price</th>\n",
              "      <th>Actual Price</th>\n",
              "      <th>Discount %</th>\n",
              "    </tr>\n",
              "  </thead>\n",
              "  <tbody>\n",
              "    <tr>\n",
              "      <th>0</th>\n",
              "      <td>I-1001</td>\n",
              "      <td>Moscow</td>\n",
              "      <td>Russia</td>\n",
              "      <td>EMEA</td>\n",
              "      <td>2018-10-06</td>\n",
              "      <td>Microwave</td>\n",
              "      <td>May Wilmot</td>\n",
              "      <td>80</td>\n",
              "      <td>79</td>\n",
              "      <td>0.0125</td>\n",
              "    </tr>\n",
              "    <tr>\n",
              "      <th>1</th>\n",
              "      <td>I-1002</td>\n",
              "      <td>Toronto</td>\n",
              "      <td>Canada</td>\n",
              "      <td>NA</td>\n",
              "      <td>2015-04-23</td>\n",
              "      <td>Microwave</td>\n",
              "      <td>David Shiner</td>\n",
              "      <td>80</td>\n",
              "      <td>54</td>\n",
              "      <td>0.3250</td>\n",
              "    </tr>\n",
              "    <tr>\n",
              "      <th>2</th>\n",
              "      <td>I-1003</td>\n",
              "      <td>Sao Paolo</td>\n",
              "      <td>Brazil</td>\n",
              "      <td>LATAM</td>\n",
              "      <td>2017-04-03</td>\n",
              "      <td>Air conditioner</td>\n",
              "      <td>Gary Reynolds</td>\n",
              "      <td>700</td>\n",
              "      <td>686</td>\n",
              "      <td>0.0200</td>\n",
              "    </tr>\n",
              "    <tr>\n",
              "      <th>3</th>\n",
              "      <td>I-1004</td>\n",
              "      <td>Istanbul</td>\n",
              "      <td>Turkey</td>\n",
              "      <td>EMEA</td>\n",
              "      <td>2018-08-14</td>\n",
              "      <td>Ceiling fan</td>\n",
              "      <td>Mark Buntain</td>\n",
              "      <td>150</td>\n",
              "      <td>137</td>\n",
              "      <td>0.0867</td>\n",
              "    </tr>\n",
              "    <tr>\n",
              "      <th>4</th>\n",
              "      <td>I-1005</td>\n",
              "      <td>Sydney</td>\n",
              "      <td>Australia</td>\n",
              "      <td>APAC</td>\n",
              "      <td>2015-03-03</td>\n",
              "      <td>Toaster</td>\n",
              "      <td>Christine Davies</td>\n",
              "      <td>50</td>\n",
              "      <td>37</td>\n",
              "      <td>0.2600</td>\n",
              "    </tr>\n",
              "  </tbody>\n",
              "</table>\n",
              "</div>"
            ],
            "text/plain": [
              "  JE Code      Store    Country  ... List Price Actual Price Discount %\n",
              "0  I-1001     Moscow     Russia  ...         80           79     0.0125\n",
              "1  I-1002    Toronto     Canada  ...         80           54     0.3250\n",
              "2  I-1003  Sao Paolo     Brazil  ...        700          686     0.0200\n",
              "3  I-1004   Istanbul     Turkey  ...        150          137     0.0867\n",
              "4  I-1005     Sydney  Australia  ...         50           37     0.2600\n",
              "\n",
              "[5 rows x 10 columns]"
            ]
          },
          "metadata": {},
          "execution_count": 253
        }
      ]
    },
    {
      "cell_type": "code",
      "metadata": {
        "colab": {
          "base_uri": "https://localhost:8080/"
        },
        "id": "d_jj2K1kSXAK",
        "outputId": "f5e983fe-fd29-49e3-9613-b570635ee619"
      },
      "source": [
        "# Контроль типа данных для даты\n",
        "df.dtypes"
      ],
      "execution_count": 254,
      "outputs": [
        {
          "output_type": "execute_result",
          "data": {
            "text/plain": [
              "JE Code                 object\n",
              "Store                   object\n",
              "Country                 object\n",
              "Region                  object\n",
              "Date            datetime64[ns]\n",
              "Item                    object\n",
              "Salesperson             object\n",
              "List Price               int64\n",
              "Actual Price             int64\n",
              "Discount %             float64\n",
              "dtype: object"
            ]
          },
          "metadata": {},
          "execution_count": 254
        }
      ]
    },
    {
      "cell_type": "code",
      "metadata": {
        "id": "9CfSbr5kAzcC"
      },
      "source": [
        "# Запись измененного файла\n",
        "df.to_excel('practice_data_v1.xlsx')"
      ],
      "execution_count": 255,
      "outputs": []
    },
    {
      "cell_type": "code",
      "metadata": {
        "colab": {
          "base_uri": "https://localhost:8080/",
          "height": 17
        },
        "id": "FZ-XKzbrApAe",
        "outputId": "760091cd-bc68-4d2b-fc9c-313a0a4a13a6"
      },
      "source": [
        "# Загрузка измененного файла на локальный диск\n",
        "files.download('practice_data_v1.xlsx')"
      ],
      "execution_count": 256,
      "outputs": [
        {
          "output_type": "display_data",
          "data": {
            "application/javascript": [
              "\n",
              "    async function download(id, filename, size) {\n",
              "      if (!google.colab.kernel.accessAllowed) {\n",
              "        return;\n",
              "      }\n",
              "      const div = document.createElement('div');\n",
              "      const label = document.createElement('label');\n",
              "      label.textContent = `Downloading \"${filename}\": `;\n",
              "      div.appendChild(label);\n",
              "      const progress = document.createElement('progress');\n",
              "      progress.max = size;\n",
              "      div.appendChild(progress);\n",
              "      document.body.appendChild(div);\n",
              "\n",
              "      const buffers = [];\n",
              "      let downloaded = 0;\n",
              "\n",
              "      const channel = await google.colab.kernel.comms.open(id);\n",
              "      // Send a message to notify the kernel that we're ready.\n",
              "      channel.send({})\n",
              "\n",
              "      for await (const message of channel.messages) {\n",
              "        // Send a message to notify the kernel that we're ready.\n",
              "        channel.send({})\n",
              "        if (message.buffers) {\n",
              "          for (const buffer of message.buffers) {\n",
              "            buffers.push(buffer);\n",
              "            downloaded += buffer.byteLength;\n",
              "            progress.value = downloaded;\n",
              "          }\n",
              "        }\n",
              "      }\n",
              "      const blob = new Blob(buffers, {type: 'application/binary'});\n",
              "      const a = document.createElement('a');\n",
              "      a.href = window.URL.createObjectURL(blob);\n",
              "      a.download = filename;\n",
              "      div.appendChild(a);\n",
              "      a.click();\n",
              "      div.remove();\n",
              "    }\n",
              "  "
            ],
            "text/plain": [
              "<IPython.core.display.Javascript object>"
            ]
          },
          "metadata": {}
        },
        {
          "output_type": "display_data",
          "data": {
            "application/javascript": [
              "download(\"download_d02e7057-e9bb-4132-91e8-d682264b3beb\", \"practice_data_v1.xlsx\", 145445)"
            ],
            "text/plain": [
              "<IPython.core.display.Javascript object>"
            ]
          },
          "metadata": {}
        }
      ]
    },
    {
      "cell_type": "markdown",
      "metadata": {
        "id": "QiFVJgdLYi-o"
      },
      "source": [
        "ИТОГ: Изначальные данные в разных текстовых форматах заменены на тип дата, который легко в excel конвертируется в любое удобное представление даты"
      ]
    }
  ]
}
